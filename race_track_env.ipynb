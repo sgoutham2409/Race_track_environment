{
 "cells": [
  {
   "cell_type": "markdown",
   "metadata": {},
   "source": [
    "The following code template comes with placeholders (marked with `YOUR CODE HERE`) and has to be filled with the appropriate logic as described in the function descriptions.\n",
    "Some cells consist of assertions about the expected functionality, and aid you in getting it right.\n",
    "They are not meant to be edited.\n",
    "Moreover, there are also hidden assertions that will test your environment for edge cases.\n",
    "Each correct assertion rewards you points for this assignment.\n",
    "\n",
    "Before you turn this problem in, make sure everything runs as expected. First, **restart the kernel** (in the menubar, select Kernel$\\rightarrow$Restart) and then **run all cells** (in the menubar, select Cell$\\rightarrow$Run All).\n",
    "\n",
    "Make sure you fill in any place that says `YOUR CODE HERE` or \"YOUR ANSWER HERE\", as well as your name and collaborators below:"
   ]
  },
  {
   "cell_type": "code",
   "execution_count": 17,
   "metadata": {},
   "outputs": [],
   "source": [
    "NAME = \"Shivaram Goutham Suresh\"\n",
    "COLLABORATORS = \"Pramod Mahajan Chikkaballekere Manjunatha\""
   ]
  },
  {
   "cell_type": "markdown",
   "metadata": {},
   "source": [
    "_Please note that only one collaborator is allowed in all assignments, that is, only two persons per group. We expect independent submissions per group. All deviations will be sanctioned._"
   ]
  },
  {
   "cell_type": "markdown",
   "metadata": {},
   "source": [
    "---"
   ]
  },
  {
   "cell_type": "markdown",
   "metadata": {
    "deletable": false,
    "editable": false,
    "nbgrader": {
     "cell_type": "markdown",
     "checksum": "e4bd756e162938adecf97f4a40e09b13",
     "grade": false,
     "grade_id": "cell-44e46e77b53e2a19",
     "locked": true,
     "schema_version": 3,
     "solution": false,
     "task": false
    }
   },
   "source": [
    "# Create an RL environment\n",
    "Use case: Cyclic race track\n",
    "\n",
    "Inspired by Barto & Sutton: Reinforcement Learning: An Introduction (2nd edition). Exercise 5. 12.\n",
    "\n",
    "![](RaceTrack.png)"
   ]
  },
  {
   "cell_type": "markdown",
   "metadata": {
    "deletable": false,
    "editable": false,
    "nbgrader": {
     "cell_type": "markdown",
     "checksum": "2d183476143db08ebff8a11b61005ba0",
     "grade": false,
     "grade_id": "cell-3d89a3afb7361313",
     "locked": true,
     "schema_version": 3,
     "solution": false,
     "task": false
    }
   },
   "source": [
    "In the upcoming tutorial (topic: Monte Carlo RL), we will need an RL environment to interact with.\n",
    "The specific environment that we will examine is that of an rectangular race track.\n",
    "\n",
    "* The race track is a grid-world with one agent, where each field is either of the following: street, wall, start line, finish line.\n",
    "* In each episode, the agent is supposed to start at a random position within the start line and has to reach the finish line as fast as possible.\n",
    "* Upon hitting a wall, the agent is teleported back to the starting line (again at a random point) without terminating the episode.\n",
    "* Each action taken by the agent results in a reward of -1.\n",
    "* The agent can choose from nine actions: Accelerating forward, staying idle, or accelerating backward in either or both directions.\n",
    "* Acceleration increments/decrements the agents velocity up to a maximum velocity in the corresponding direction.\n",
    "* Before updating the agents’s location at each time step, check to see if the projected path of the car intersects the track boundary.\n",
    "  * Intersecting a wall leads to back teleportation.\n",
    "  * Intersecting with the finish line leads to episode termination.\n",
    "\n",
    "In this homework assignment, you are supposed to write a python class representing such a race track that can be configured to arbitrary dimensions.\n",
    "The interface of this class is geared to the specifications of a typical [OpenAI gym environment](https://gym.openai.com/).\n",
    "However, the gym package is not required for this assignment.\n",
    "\n",
    "## 1. Race Track Environment (25 points)\n",
    "\n",
    "In this part of the assignment, you are supposed to write the logic behind a race track environment."
   ]
  },
  {
   "cell_type": "code",
   "execution_count": 18,
   "metadata": {
    "deletable": false,
    "nbgrader": {
     "cell_type": "code",
     "checksum": "fcf1d92863b0651670879dc23fd352ad",
     "grade": false,
     "grade_id": "cell-78afd8299ef23314",
     "locked": false,
     "schema_version": 3,
     "solution": true,
     "task": false
    }
   },
   "outputs": [],
   "source": [
    "import numpy as np\n",
    "import random\n",
    "\n",
    "\n",
    "class RaceTrackEnv:\n",
    "    \"\"\"\n",
    "    RaceTrackEnv object maintains and updates the race track \n",
    "    state. Interaction with the class is through\n",
    "    the step() method (see OpenAI Gym interface)\n",
    "    \n",
    "    The class constructor is given a race course as a list of \n",
    "    strings. The constructor loads the course and initializes \n",
    "    the environment state.\n",
    "    \"\"\"\n",
    "    \n",
    "    lbl2int = {'o': 1, '-': 0, '+': 2, 'W': -1}\n",
    "\n",
    "    \n",
    "    def __init__(self, course):\n",
    "        \"\"\"\n",
    "        Load race course, set any min or max limits in the \n",
    "        environment (e.g. max speed), and set initial state.\n",
    "        Initial state is random position on start line with \n",
    "        velocity = (0, 0).\n",
    "        \n",
    "        Example:\n",
    "            tiny_right_turn_course = \n",
    "                  ['WWWWWW',\n",
    "                   'Woooo+',\n",
    "                   'Woooo+',\n",
    "                   'WooWWW',\n",
    "                   'WooWWW',\n",
    "                   'WooWWW',\n",
    "                   'WooWWW',\n",
    "                   'W--WWW',]\n",
    "        \n",
    "        Args:\n",
    "            course: List of text strings used to construct\n",
    "                race-track.\n",
    "                    '-': start line\n",
    "                    '+': finish line\n",
    "                    'o': track\n",
    "                    'W': wall\n",
    "        \n",
    "        Returns:\n",
    "            self\n",
    "        \"\"\"\n",
    "        self.MAX_VELOCITY = 5\n",
    "        self.start_positions = []\n",
    "        self.finish_positions = []\n",
    "        self.course = np.empty((len(course), len(course[0])), dtype=np.int8)\n",
    "        self.position = np.empty(2, dtype=np.int8)\n",
    "        self._load_course(course)\n",
    "        self._random_start_position()\n",
    "        self.velocity = np.array([0, 0], dtype=np.int8)\n",
    "        self.bounds = (len(course), len(course[0]))\n",
    "        \n",
    "    \n",
    "    # Find the intersections of the line with the cells, when the slope is less than 1\n",
    "    def _find_intersections_low(self, start_x, start_y, end_x, end_y):\n",
    "        dx = end_x - start_x\n",
    "        dy = end_y - start_y\n",
    "        y_increment = 1\n",
    "        \n",
    "        if dy < 0:\n",
    "            y_increment = -1\n",
    "            dy = -dy\n",
    "        \n",
    "        diff = 2*dy - dx\n",
    "        y = start_y\n",
    "        \n",
    "        intersections = []\n",
    "        for x in range(start_x, end_x+1):\n",
    "            intersections.append([y,x])\n",
    "            if diff > 0:\n",
    "                y += y_increment\n",
    "                diff = diff - 2*dx\n",
    "            diff += 2*dy\n",
    "        \n",
    "        return intersections\n",
    "    \n",
    "    \n",
    "    # Find the intersections of the line with the cells, when the slope is more than 1\n",
    "    def _find_intersections_high(self, start_x, start_y, end_x, end_y):\n",
    "        dx = end_x - start_x\n",
    "        dy = end_y - start_y\n",
    "        x_increment = 1\n",
    "        \n",
    "        if dx < 0:\n",
    "            x_increment = -1\n",
    "            dx = -dx\n",
    "            \n",
    "        diff= 2*dx - dy\n",
    "        x = start_x\n",
    "        \n",
    "        intersections = []\n",
    "        for y in range(start_y, end_y+1):\n",
    "            intersections.append([y,x])\n",
    "            if diff > 0:\n",
    "                x +=  x_increment\n",
    "                diff = diff - 2*dy\n",
    "            diff += 2*dx\n",
    "            \n",
    "        return intersections\n",
    "        \n",
    "        \n",
    "    def step(self, action):\n",
    "        \"\"\"\n",
    "        Perform given action on the environment.\n",
    "        The reward for every action and state is -1, except for when \n",
    "        reaching the finish line.\n",
    "        \n",
    "        Args:\n",
    "            action: integer-encoded {0-8} or a \n",
    "                2-tuple (a_y, a_x) in {[-1, 0, 1], [-1, 0, 1]}.\n",
    "        \n",
    "        Returns:\n",
    "            4-tuple: (new_state, reward, done, info)\n",
    "                new_state: the new state resulting from taken action\n",
    "                reward: The reward obtained from taken action\n",
    "                done: Bool. Whether we are in a terminal state.\n",
    "                Info: Dict. Arbitrary information.\n",
    "                \n",
    "        \"\"\"\n",
    "        # Get the result of action applied to current state\n",
    "        s_y, s_x, s_vy, s_vx, a_y, a_x = self.state_action(self.get_state(), action)\n",
    "        s_vy = min(s_vy + a_y, self.MAX_VELOCITY)\n",
    "        s_vx = min(s_vx + a_x, self.MAX_VELOCITY)\n",
    "        \n",
    "        # Calculated next state positions, bounded by length and breadth of the course\n",
    "        ns_y = min(s_y + s_vy, self.bounds[0] - 1)\n",
    "        ns_x = min(s_x + s_vx, self.bounds[1] - 1)\n",
    "\n",
    "#         print('current pos: ', s_y, s_x)\n",
    "#         print('current vel: ', s_vy, s_vx)\n",
    "#         print('action: ', a_y, a_x)\n",
    "#         print('next pos: ', ns_y, ns_x)\n",
    "#         print('next vel: ', s_vy, s_vx)\n",
    "        \n",
    "        a = (ns_y - s_y)\n",
    "        b = (s_x - ns_x)\n",
    "        c = a*s_x + b*s_y\n",
    "        \n",
    "        intersections = [] # List to store the intersecting cell coordinates \n",
    "        if (ns_x - s_x) == 0: # Slope infinity\n",
    "            x = s_x\n",
    "            if s_y > ns_y:\n",
    "                for y in range(ns_y, s_y+1):\n",
    "                    intersections.append([y,x])\n",
    "            else:\n",
    "                for y in range(s_y, ns_y+1):\n",
    "                    intersections.append([y,x])\n",
    "        else:\n",
    "            if abs(ns_y - s_y) < abs(ns_x - s_x): # Slope < 1\n",
    "                if s_x > ns_x:\n",
    "                    intersections = self._find_intersections_low(ns_x, ns_y, s_x, s_y)\n",
    "                else:\n",
    "                    intersections = self._find_intersections_low(s_x, s_y, ns_x, ns_y)\n",
    "            elif abs(ns_y - s_y) > abs(ns_x - s_x): # Slope > 1\n",
    "                if s_y > ns_y:\n",
    "                    intersections = self._find_intersections_high(ns_x, ns_y, s_x, s_y)\n",
    "                else:\n",
    "                    intersections = self._find_intersections_high(s_x, s_y, ns_x, ns_y)\n",
    "            else: # abs(Slope) = 1\n",
    "                if (ns_x > s_x and ns_y > s_y): \n",
    "                    j = s_y\n",
    "                    for i in range(s_x, ns_x+1):\n",
    "                        intersections.append([j,i])\n",
    "                        j += 1\n",
    "                elif (s_x > ns_x and s_y > ns_y):\n",
    "                    j = ns_y\n",
    "                    for i in range(ns_x, s_x+1):\n",
    "                        intersections.append([j,i])\n",
    "                        j += 1\n",
    "                else:\n",
    "                    if s_y > ns_y and ns_x > s_x:\n",
    "                        j = s_y\n",
    "                        for i in range(s_x, ns_x+1):\n",
    "                            intersections.append([j,i])\n",
    "                            j -= 1\n",
    "                    elif ns_y > s_y and s_x > ns_x:\n",
    "                        i = s_x\n",
    "                        for j in range(s_y, ns_y+1):\n",
    "                            intersections.append([j,i])\n",
    "                            i -= 1\n",
    "\n",
    "        done = False\n",
    "        # Check for obstacle and finish line crossing\n",
    "        for row, col in intersections:\n",
    "            if self.course[row, col] == self.lbl2int['W']:\n",
    "                self.reset()\n",
    "                break\n",
    "            else:\n",
    "                if self._is_finish([row,col]): \n",
    "                    done = True\n",
    "                    self.position = [ns_y, ns_x]\n",
    "                    self.velocity = [s_vy, s_vx]\n",
    "                    break\n",
    "                else:\n",
    "                    self.position = [ns_y, ns_x]\n",
    "                    self.velocity = [s_vy, s_vx]\n",
    "        \n",
    "        reward = -1\n",
    "        next_state = (self.position, self.velocity)\n",
    "        \n",
    "        return next_state, reward, done, _\n",
    "        \n",
    "        \n",
    "    def get_state(self):\n",
    "        \"\"\"Return 2-element-tuple: (position, velocity). Each is a 2D numpy array.\"\"\"\n",
    "        return tuple([self.position.copy(), self.velocity.copy()])\n",
    "            \n",
    "            \n",
    "    def reset(self):\n",
    "        \"\"\"Set velocity to 0 in both directions and set the position to any\n",
    "        of the possible start positions.\n",
    "        Returns the resulting state.\"\"\"\n",
    "        self._random_start_position()\n",
    "        self.velocity[0] = 0\n",
    "        self.velocity[1] = 0\n",
    "        return self.get_state()\n",
    "\n",
    "    \n",
    "    def _random_start_position(self):\n",
    "        \"\"\"Set agent to random position on start line.\"\"\"\n",
    "        self.position = np.asarray(self.start_positions[random.randint(0, len(self.start_positions) - 1)])\n",
    "    \n",
    "    \n",
    "    def _load_course(self, course):\n",
    "        \"\"\"Load given course. The course is expected to be a list of strings.\n",
    "        Each string represents a horizontal line of the track.\n",
    "        See __init__ doc.\n",
    "        The course is to be internally represented as numpy array.\"\"\"\n",
    "        y_idx = 0\n",
    "        for row in course:\n",
    "            x_idx = 0\n",
    "            for cell in row:\n",
    "                cell_value = self.lbl2int[cell]\n",
    "                self.course[y_idx, x_idx] = cell_value\n",
    "                \n",
    "                if cell_value == 0:\n",
    "                    self.start_positions.append((y_idx, x_idx))\n",
    "                elif cell_value == 2:\n",
    "                    self.finish_positions.append((y_idx, x_idx))\n",
    "                \n",
    "                x_idx += 1\n",
    "            y_idx += 1\n",
    "    \n",
    "    \n",
    "    def _is_finish(self, pos):\n",
    "        \"\"\"Return True if given position is in finish line\"\"\"\n",
    "        for finish_position in self.finish_positions:\n",
    "            if pos[0] == finish_position[0] and pos[1] == finish_position[1]:\n",
    "                return True\n",
    "        return False\n",
    "    \n",
    "    \n",
    "    def is_terminal_state(self):\n",
    "        \"\"\"Return True at episode terminal state\"\"\"\n",
    "        return self._is_finish(self.position)\n",
    "    \n",
    "    \n",
    "    def action_to_tuple(self, a):\n",
    "        \"\"\"Convert integer action to 2-tuple: (ay, ax)\"\"\"\n",
    "        q,r = divmod(a,3)\n",
    "        return tuple((q-1, r-1))\n",
    "    \n",
    "    \n",
    "    def tuple_to_action(self, a):\n",
    "        \"\"\"Convert 2-tuple to integer action: {0-8}.\n",
    "        Since there are two axes that can go forward, backward or \n",
    "        idle, we have 3² actions\"\"\"\n",
    "        return ((a[0]+1)*3 + (a[1]+1))\n",
    "    \n",
    "    \n",
    "    def state_action(self, s, a):\n",
    "        \"\"\"Build a state-action tuple for indexing Q NumPy array.\"\"\"\n",
    "        if not isinstance(a, tuple):\n",
    "            a = self.action_to_tuple(a)\n",
    "        p, v = s\n",
    "        s_y, s_x = p[0], p[1]\n",
    "        s_vy, s_vx = v[0], v[1]\n",
    "        a_y, a_x = a[0], a[1]\n",
    "        return s_y, s_x, s_vy, s_vx, a_y, a_x\n",
    "    \n",
    "\n",
    "#     def render():\n",
    "#         \"\"\"Render the current position of the agent within the track text-based\"\"\"\n",
    "#         # YOUR CODE HERE\n",
    "#         raise NotImplementedError()"
   ]
  },
  {
   "cell_type": "markdown",
   "metadata": {
    "deletable": false,
    "editable": false,
    "nbgrader": {
     "cell_type": "markdown",
     "checksum": "2467ab8b55f1085ff1a664707486fac0",
     "grade": false,
     "grade_id": "cell-d505954b1d3ca417",
     "locked": true,
     "schema_version": 3,
     "solution": false,
     "task": false
    }
   },
   "source": [
    "The following read-only cells are full of (potentially hidden) assertions, which test your implementation.\n",
    "Having all assertions correct leads to a full score for this assignment."
   ]
  },
  {
   "cell_type": "code",
   "execution_count": 19,
   "metadata": {
    "deletable": false,
    "editable": false,
    "nbgrader": {
     "cell_type": "code",
     "checksum": "cab6b1a6dd67e4f6e68f4d17b20b99af",
     "grade": true,
     "grade_id": "cell-786b496b684a74b8",
     "locked": true,
     "points": 2,
     "schema_version": 3,
     "solution": false,
     "task": false
    }
   },
   "outputs": [],
   "source": [
    "test_course = ['WWWWWW',\n",
    "               'Woooo+',\n",
    "               'Woooo+',\n",
    "               'WooWWW',\n",
    "               'WooWWW',\n",
    "               'WooWWW',\n",
    "               'WooWWW',\n",
    "               'W--WWW',]\n",
    "\n",
    "track = RaceTrackEnv(test_course)\n",
    "\n",
    "assert len(track.start_positions) > 0\n",
    "assert track.course is not None\n",
    "assert track.course.shape[0] == len(test_course)\n",
    "assert track.course.shape[1] == len(test_course[0])"
   ]
  },
  {
   "cell_type": "code",
   "execution_count": 20,
   "metadata": {
    "deletable": false,
    "editable": false,
    "nbgrader": {
     "cell_type": "code",
     "checksum": "54ed60872dcc5c04022eab1c66b5df4e",
     "grade": true,
     "grade_id": "cell-2396b79d5eae0b9a",
     "locked": true,
     "points": 6,
     "schema_version": 3,
     "solution": false,
     "task": false
    }
   },
   "outputs": [],
   "source": [
    "def check_policy_against_expected_reward(pi, expected_rewards=[]):\n",
    "    n_episodes = 5\n",
    "    max_steps = 100\n",
    "    for trial in range(n_episodes):\n",
    "        s = track.reset()\n",
    "        a = pi[tuple(s[0])]\n",
    "        done = False\n",
    "        reward = 0\n",
    "        for _ in range(max_steps):\n",
    "            s_next, r, done, _ = track.step(a)\n",
    "            reward += r\n",
    "            a = pi[tuple(s_next[0])]\n",
    "            if done: break\n",
    "        assert reward in expected_rewards, f'reward {reward} is not in expected_rewards {expected_rewards}'\n",
    "\n",
    "test_policy_1 = {(i, j): (0, 0) for i in range(len(test_course)) for j in range(len(test_course[0]))}\n",
    "test_policy_1.update({(7, 1): (-1, 0),\n",
    "                      (7, 2): (-1, 0),\n",
    "                      (1, 1): (1, 1),\n",
    "                      (2, 2): (1, 1)})\n",
    "check_policy_against_expected_reward(test_policy_1, expected_rewards=[-8, -10])"
   ]
  },
  {
   "cell_type": "code",
   "execution_count": 21,
   "metadata": {
    "deletable": false,
    "editable": false,
    "nbgrader": {
     "cell_type": "code",
     "checksum": "c990fe66b14183de5cd6a0f25d76f162",
     "grade": true,
     "grade_id": "cell-a16f5b9da0910071",
     "locked": true,
     "points": 3,
     "schema_version": 3,
     "solution": false,
     "task": false
    }
   },
   "outputs": [],
   "source": [
    "for a in range(9):\n",
    "    assert track.tuple_to_action(track.action_to_tuple(a)) == a\n",
    "tup = track.action_to_tuple(0)\n",
    "assert isinstance(tup, tuple)\n",
    "assert len(tup) == 2"
   ]
  },
  {
   "cell_type": "code",
   "execution_count": 22,
   "metadata": {
    "deletable": false,
    "editable": false,
    "nbgrader": {
     "cell_type": "code",
     "checksum": "ded66a78b954ecb849544060a2e099d5",
     "grade": true,
     "grade_id": "cell-81597c69311ea287",
     "locked": true,
     "points": 2,
     "schema_version": 3,
     "solution": false,
     "task": false
    }
   },
   "outputs": [],
   "source": [
    "# this cell contains hidden tests"
   ]
  },
  {
   "cell_type": "code",
   "execution_count": 23,
   "metadata": {
    "deletable": false,
    "editable": false,
    "nbgrader": {
     "cell_type": "code",
     "checksum": "e1ba1e11bf50e16c367720deab5bde2e",
     "grade": true,
     "grade_id": "cell-0d2daae8ec2728db",
     "locked": true,
     "points": 2,
     "schema_version": 3,
     "solution": false,
     "task": false
    }
   },
   "outputs": [],
   "source": [
    "# this cell contains hidden tests"
   ]
  },
  {
   "cell_type": "code",
   "execution_count": 24,
   "metadata": {
    "deletable": false,
    "editable": false,
    "nbgrader": {
     "cell_type": "code",
     "checksum": "d3dcbd4ea0d8abbc5af45e2318ef65ed",
     "grade": true,
     "grade_id": "cell-624221703db4a44a",
     "locked": true,
     "points": 1,
     "schema_version": 3,
     "solution": false,
     "task": false
    }
   },
   "outputs": [],
   "source": [
    "# this cell contains hidden tests"
   ]
  },
  {
   "cell_type": "code",
   "execution_count": 25,
   "metadata": {
    "deletable": false,
    "editable": false,
    "nbgrader": {
     "cell_type": "code",
     "checksum": "a9366f9986c0b31305998d30c1d3f354",
     "grade": true,
     "grade_id": "cell-78cc9cf118de95de",
     "locked": true,
     "points": 1,
     "schema_version": 3,
     "solution": false,
     "task": false
    }
   },
   "outputs": [],
   "source": [
    "# this cell contains hidden tests"
   ]
  },
  {
   "cell_type": "code",
   "execution_count": 26,
   "metadata": {
    "deletable": false,
    "editable": false,
    "nbgrader": {
     "cell_type": "code",
     "checksum": "c599ac5577824602d91ca557c8b1f349",
     "grade": true,
     "grade_id": "cell-45f226bc9589a4e8",
     "locked": true,
     "points": 1,
     "schema_version": 3,
     "solution": false,
     "task": false
    }
   },
   "outputs": [],
   "source": [
    "# this cell contains hidden tests"
   ]
  },
  {
   "cell_type": "code",
   "execution_count": 27,
   "metadata": {
    "deletable": false,
    "editable": false,
    "nbgrader": {
     "cell_type": "code",
     "checksum": "2622829207ed103832ffdabb9f989ead",
     "grade": true,
     "grade_id": "cell-070db3c058eb080b",
     "locked": true,
     "points": 2,
     "schema_version": 3,
     "solution": false,
     "task": false
    }
   },
   "outputs": [],
   "source": [
    "# this cell contains hidden tests"
   ]
  },
  {
   "cell_type": "code",
   "execution_count": 28,
   "metadata": {
    "deletable": false,
    "editable": false,
    "nbgrader": {
     "cell_type": "code",
     "checksum": "b3492540b0fb5c1cd523602cb9b36000",
     "grade": true,
     "grade_id": "cell-36433005ebb19a97",
     "locked": true,
     "points": 4,
     "schema_version": 3,
     "solution": false,
     "task": false
    }
   },
   "outputs": [],
   "source": [
    "# this cell contains hidden tests"
   ]
  },
  {
   "cell_type": "code",
   "execution_count": 29,
   "metadata": {
    "deletable": false,
    "editable": false,
    "nbgrader": {
     "cell_type": "code",
     "checksum": "4091f3b2e5c931a2139efd26a0475e88",
     "grade": true,
     "grade_id": "cell-98fa404165ebe6e1",
     "locked": true,
     "points": 1,
     "schema_version": 3,
     "solution": false,
     "task": false
    }
   },
   "outputs": [],
   "source": [
    "# this cell contains hidden tests"
   ]
  },
  {
   "cell_type": "markdown",
   "metadata": {
    "deletable": false,
    "editable": false,
    "nbgrader": {
     "cell_type": "markdown",
     "checksum": "bd5ba65e325db3ff87bb20365236bb81",
     "grade": false,
     "grade_id": "cell-480c7d10e815ea32",
     "locked": true,
     "schema_version": 3,
     "solution": false,
     "task": false
    }
   },
   "source": [
    "## 2. Rectangular Course (5 points)\n",
    "\n",
    "In the following, build a rectangular race track by implementing the logic for the `build_rect_course` function."
   ]
  },
  {
   "cell_type": "code",
   "execution_count": 30,
   "metadata": {
    "deletable": false,
    "nbgrader": {
     "cell_type": "code",
     "checksum": "4335603ca6a97be45603e8fbf8b751e3",
     "grade": false,
     "grade_id": "cell-3007bfd6451d34d1",
     "locked": false,
     "schema_version": 3,
     "solution": true,
     "task": false
    }
   },
   "outputs": [],
   "source": [
    "def build_rect_course(course_dim, inner_wall_dim):\n",
    "    \"\"\"Build a race track given specifications for the outer cyclic street and inner wall dimensions.\n",
    "    Start and finish line should be placed in the center top. The course dimension specifications\n",
    "    do not consider a bounding wall around the track, which must be inserted additionally.\n",
    "    \n",
    "    Args:\n",
    "        course_dim: 2-tuple, (y-dim, x-dim): The size of the track without outer walls.\n",
    "        inner_wall_dim: 2-tuple (y-dim, x-dim): The size of the inner wall\n",
    "    \n",
    "    \"\"\"\n",
    "    \"\"\"\n",
    "    Assumptions: \n",
    "    Since number of columns are even number, the start line is chosen to be in 22/2=11 + 1 = 12th column\n",
    "    The finish line is symmetric to startlinee but a column behind, i.e at 11th column\n",
    "    The outerwall thickness is one grid\n",
    "    The inner wall thickness is one grid too, but assumed to be covered within the given data, i.e 4X10 includes thickness of inner wall \n",
    "    Note: The whole grid is created as (14+2)X(20+2) list of '0'(path to travel) and then walls are added at mentioned places.\n",
    "    \"\"\"\n",
    "    # YOUR CODE HERE\n",
    "    RaceTrackGrid = [['o' for x in range(course_dim[1]+2)] for y in range(course_dim[0]+2)] # Adding walls on 4 sides(outer boundary)\n",
    "        \n",
    "    #setting outerwall\n",
    "    outer_wall_start_x = 0\n",
    "    outer_wall_start_y = 0\n",
    "    for i in [outer_wall_start_y, outer_wall_start_y+len(RaceTrackGrid)-1]:\n",
    "        for j in range(outer_wall_start_x, outer_wall_start_x+len(RaceTrackGrid[0])):\n",
    "            RaceTrackGrid[i][j] = 'W'\n",
    "    for i in range(outer_wall_start_y, outer_wall_start_y+len(RaceTrackGrid)):\n",
    "        for j in [outer_wall_start_x, outer_wall_start_x+len(RaceTrackGrid[0])-1]:\n",
    "            RaceTrackGrid[i][j] ='W'\n",
    "    \n",
    "    # setting inner wall\n",
    "    inner_wall_start_x = outer_wall_start_x + (len(RaceTrackGrid[0]) - inner_wall_dim[1])//2\n",
    "    inner_wall_start_y = outer_wall_start_y + (len(RaceTrackGrid) - inner_wall_dim[0])//2\n",
    "    for i in range(inner_wall_start_y, (inner_wall_start_y+inner_wall_dim[0])):\n",
    "        for j in range(inner_wall_start_x, (inner_wall_start_x + inner_wall_dim[1])):\n",
    "            RaceTrackGrid[i][j]='W'\n",
    "    \n",
    "    # start line\n",
    "    for i in range(1,inner_wall_start_y):\n",
    "        RaceTrackGrid[i][len(RaceTrackGrid[0])//2] = '-'\n",
    "    \n",
    "    # Finish line\n",
    "    for i in range(1,inner_wall_start_y):\n",
    "        RaceTrackGrid[i][(len(RaceTrackGrid[0])//2)-1] = '+'\n",
    "        \n",
    "    return RaceTrackGrid"
   ]
  },
  {
   "cell_type": "code",
   "execution_count": 31,
   "metadata": {
    "deletable": false,
    "editable": false,
    "nbgrader": {
     "cell_type": "code",
     "checksum": "f600395f3ff4c7a595731b001ec6b2a9",
     "grade": true,
     "grade_id": "cell-b782851cd29e15ca",
     "locked": true,
     "points": 2,
     "schema_version": 3,
     "solution": false,
     "task": false
    }
   },
   "outputs": [],
   "source": [
    "# course dimensions\n",
    "_course_dim = (14, 20)\n",
    "_inner_wall_dim = (4, 10)\n",
    "course = build_rect_course(_course_dim, _inner_wall_dim)\n",
    "assert isinstance(course, list)\n",
    "assert len(course) == _course_dim[0] + 2  # boundary walls on top and bottom\n",
    "assert len(course[0]) == _course_dim[1] + 2  # boundary walls on left and right\n",
    "assert any('+' in line for line in course[:len(course)//2])\n",
    "assert any('-' in line for line in course[:len(course)//2])\n",
    "assert all('W' in line for line in course)\n",
    "assert all('W' == letter for line in [course[0], course[-1]] for letter in line)\n",
    "assert all(('W' == line[0]) and ('W' == line[-1]) for line in course)"
   ]
  },
  {
   "cell_type": "code",
   "execution_count": 32,
   "metadata": {
    "deletable": false,
    "editable": false,
    "nbgrader": {
     "cell_type": "code",
     "checksum": "5bdebd7d45e03eb0ebb3c28389dc4501",
     "grade": true,
     "grade_id": "cell-3b05d623fb7c07ba",
     "locked": true,
     "points": 3,
     "schema_version": 3,
     "solution": false,
     "task": false
    }
   },
   "outputs": [],
   "source": [
    "# this cell contains hidden tests"
   ]
  }
 ],
 "metadata": {
  "kernelspec": {
   "display_name": "Python 3",
   "language": "python",
   "name": "python3"
  },
  "language_info": {
   "codemirror_mode": {
    "name": "ipython",
    "version": 3
   },
   "file_extension": ".py",
   "mimetype": "text/x-python",
   "name": "python",
   "nbconvert_exporter": "python",
   "pygments_lexer": "ipython3",
   "version": "3.7.6"
  }
 },
 "nbformat": 4,
 "nbformat_minor": 4
}
